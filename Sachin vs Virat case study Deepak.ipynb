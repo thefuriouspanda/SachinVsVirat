{
 "cells": [
  {
   "cell_type": "markdown",
   "id": "0dd3d360",
   "metadata": {},
   "source": [
    "## Sachin vs Virat - Who is Better ??"
   ]
  },
  {
   "cell_type": "code",
   "execution_count": 1,
   "id": "145c6e1b",
   "metadata": {},
   "outputs": [],
   "source": [
    "import warnings\n",
    "warnings.filterwarnings('ignore')\n",
    "\n",
    "import pandas as pd\n",
    "import numpy as np\n",
    "import matplotlib.pyplot as plt\n",
    "import seaborn as sns\n",
    "\n",
    "#to display all rows and coloumns\n",
    "\n",
    "pd.set_option('display.max_rows',None)\n",
    "pd.set_option('display.max_columns',None)\n",
    "pd.set_option('display.expand_frame_repr',False)\n",
    "pd.set_option('max_colwidth',-1)"
   ]
  },
  {
   "cell_type": "code",
   "execution_count": 2,
   "id": "057521d3",
   "metadata": {},
   "outputs": [],
   "source": [
    "df = pd.read_csv('ODI_data.csv')"
   ]
  },
  {
   "cell_type": "code",
   "execution_count": 3,
   "id": "a4d7f01f",
   "metadata": {},
   "outputs": [
    {
     "data": {
      "text/plain": [
       "(171968, 28)"
      ]
     },
     "execution_count": 3,
     "metadata": {},
     "output_type": "execute_result"
    }
   ],
   "source": [
    "df.shape"
   ]
  },
  {
   "cell_type": "code",
   "execution_count": 4,
   "id": "8abf996d",
   "metadata": {},
   "outputs": [
    {
     "data": {
      "text/plain": [
       "171968"
      ]
     },
     "execution_count": 4,
     "metadata": {},
     "output_type": "execute_result"
    }
   ],
   "source": [
    "len(df)"
   ]
  },
  {
   "cell_type": "code",
   "execution_count": 5,
   "id": "0a0aac44",
   "metadata": {},
   "outputs": [
    {
     "data": {
      "text/html": [
       "<div>\n",
       "<style scoped>\n",
       "    .dataframe tbody tr th:only-of-type {\n",
       "        vertical-align: middle;\n",
       "    }\n",
       "\n",
       "    .dataframe tbody tr th {\n",
       "        vertical-align: top;\n",
       "    }\n",
       "\n",
       "    .dataframe thead th {\n",
       "        text-align: right;\n",
       "    }\n",
       "</style>\n",
       "<table border=\"1\" class=\"dataframe\">\n",
       "  <thead>\n",
       "    <tr style=\"text-align: right;\">\n",
       "      <th></th>\n",
       "      <th>Innings Player</th>\n",
       "      <th>Innings Runs Scored</th>\n",
       "      <th>Innings Runs Scored Num</th>\n",
       "      <th>Innings Minutes Batted</th>\n",
       "      <th>Innings Batted Flag</th>\n",
       "      <th>Innings Not Out Flag</th>\n",
       "      <th>Innings Balls Faced</th>\n",
       "      <th>Innings Boundary Fours</th>\n",
       "      <th>Innings Boundary Sixes</th>\n",
       "      <th>Innings Batting Strike Rate</th>\n",
       "      <th>Innings Number</th>\n",
       "      <th>Opposition</th>\n",
       "      <th>Ground</th>\n",
       "      <th>Innings Date</th>\n",
       "      <th>Country</th>\n",
       "      <th>50's</th>\n",
       "      <th>100's</th>\n",
       "      <th>Innings Runs Scored Buckets</th>\n",
       "      <th>Innings Overs Bowled</th>\n",
       "      <th>Innings Bowled Flag</th>\n",
       "      <th>Innings Maidens Bowled</th>\n",
       "      <th>Innings Runs Conceded</th>\n",
       "      <th>Innings Wickets Taken</th>\n",
       "      <th>4 Wickets</th>\n",
       "      <th>5 Wickets</th>\n",
       "      <th>10 Wickets</th>\n",
       "      <th>Innings Wickets Taken Buckets</th>\n",
       "      <th>Innings Economy Rate</th>\n",
       "    </tr>\n",
       "  </thead>\n",
       "  <tbody>\n",
       "    <tr>\n",
       "      <th>0</th>\n",
       "      <td>E Lewis</td>\n",
       "      <td>65</td>\n",
       "      <td>65</td>\n",
       "      <td>128</td>\n",
       "      <td>1.0</td>\n",
       "      <td>0.0</td>\n",
       "      <td>80</td>\n",
       "      <td>8</td>\n",
       "      <td>1</td>\n",
       "      <td>81.25</td>\n",
       "      <td>2</td>\n",
       "      <td>v India</td>\n",
       "      <td>Port of Spain</td>\n",
       "      <td>11-08-2019</td>\n",
       "      <td>West Indies</td>\n",
       "      <td>1.0</td>\n",
       "      <td>0.0</td>\n",
       "      <td>50-99</td>\n",
       "      <td>NaN</td>\n",
       "      <td>NaN</td>\n",
       "      <td>NaN</td>\n",
       "      <td>NaN</td>\n",
       "      <td>NaN</td>\n",
       "      <td>NaN</td>\n",
       "      <td>NaN</td>\n",
       "      <td>NaN</td>\n",
       "      <td>NaN</td>\n",
       "      <td>NaN</td>\n",
       "    </tr>\n",
       "    <tr>\n",
       "      <th>1</th>\n",
       "      <td>N Pooran</td>\n",
       "      <td>42</td>\n",
       "      <td>42</td>\n",
       "      <td>69</td>\n",
       "      <td>1.0</td>\n",
       "      <td>0.0</td>\n",
       "      <td>52</td>\n",
       "      <td>4</td>\n",
       "      <td>1</td>\n",
       "      <td>80.76</td>\n",
       "      <td>2</td>\n",
       "      <td>v India</td>\n",
       "      <td>Port of Spain</td>\n",
       "      <td>11-08-2019</td>\n",
       "      <td>West Indies</td>\n",
       "      <td>0.0</td>\n",
       "      <td>0.0</td>\n",
       "      <td>0-49</td>\n",
       "      <td>NaN</td>\n",
       "      <td>NaN</td>\n",
       "      <td>NaN</td>\n",
       "      <td>NaN</td>\n",
       "      <td>NaN</td>\n",
       "      <td>NaN</td>\n",
       "      <td>NaN</td>\n",
       "      <td>NaN</td>\n",
       "      <td>NaN</td>\n",
       "      <td>NaN</td>\n",
       "    </tr>\n",
       "  </tbody>\n",
       "</table>\n",
       "</div>"
      ],
      "text/plain": [
       "  Innings Player Innings Runs Scored Innings Runs Scored Num Innings Minutes Batted  Innings Batted Flag  Innings Not Out Flag Innings Balls Faced Innings Boundary Fours Innings Boundary Sixes Innings Batting Strike Rate Innings Number Opposition         Ground Innings Date      Country  50's  100's Innings Runs Scored Buckets Innings Overs Bowled  Innings Bowled Flag Innings Maidens Bowled Innings Runs Conceded Innings Wickets Taken  4 Wickets  5 Wickets  10 Wickets Innings Wickets Taken Buckets Innings Economy Rate\n",
       "0  E Lewis        65                  65                      128                    1.0                  0.0                   80                  8                      1                      81.25                       2              v India    Port of Spain  11-08-2019   West Indies  1.0   0.0    50-99                       NaN                 NaN                   NaN                    NaN                   NaN                  NaN        NaN        NaN          NaN                           NaN                \n",
       "1  N Pooran       42                  42                      69                     1.0                  0.0                   52                  4                      1                      80.76                       2              v India    Port of Spain  11-08-2019   West Indies  0.0   0.0    0-49                        NaN                 NaN                   NaN                    NaN                   NaN                  NaN        NaN        NaN          NaN                           NaN                "
      ]
     },
     "execution_count": 5,
     "metadata": {},
     "output_type": "execute_result"
    }
   ],
   "source": [
    "df.head(2)"
   ]
  },
  {
   "cell_type": "markdown",
   "id": "ce677ed3",
   "metadata": {},
   "source": [
    "## Things we need to evaluate (Parameters)\n",
    "### Runs per innings\n",
    "### SR\n",
    "### 100's\n",
    "### 50's\n",
    "### Team Contribution "
   ]
  },
  {
   "cell_type": "code",
   "execution_count": 6,
   "id": "5c533fc1",
   "metadata": {},
   "outputs": [
    {
     "data": {
      "text/plain": [
       "array(['65', '42', '18', '17', '13', '11', '5', '0', '120', '71', '20',\n",
       "       '16', '3', '2', '1', '-', nan, '40', '6', '4', '87', '54', '46',\n",
       "       '30', '12', '69', '39', '14', '10', '9', '8', '7', '82', '52',\n",
       "       '41', '15', '98', '43', '19', '111', '48', '36', '25', '67', '60',\n",
       "       '84', '59', '55', '47', '85', '49', '45', '34', '29', '22', '74',\n",
       "       '28', '77', '50', '32', '23', '35', '122', '100', '95', '103',\n",
       "       '113', '53', '96', '27', '64', '58', '33', '31', '73', '56', '86',\n",
       "       '62', '106', '24', '57', '104', '26', '66', '51', '118', '105',\n",
       "       '101', '21', '79', '44', '102', '88', '80', '72', '97', '68', '89',\n",
       "       '38', '83', '63', '148', '166', '90', '76', '37', '70', '124',\n",
       "       '94', '140', '153', '107', '117', '121', '92', '78', '75', '114',\n",
       "       '115', '130', '128', '151', '110', '138', '135', '109', '61',\n",
       "       '179', '170', '112', '116', '91', '143', '93', '123', '145', '81',\n",
       "       '150', '162', '108', '131', '133', '137', '146', '139', '125',\n",
       "       '129', '157', '152', '144', '99', '127', '210', '147', '126',\n",
       "       '181', '160', '180', '208', '176', '168', '141', '132', '119',\n",
       "       '154', '185', '134', '156', '164', '173', '178', '171', '149',\n",
       "       '237', '159', '161', '215', '264', '136', '169', '209', '174',\n",
       "       '189', '183', '163', '219', '158', '175', '177', '200', '194',\n",
       "       '142', '172', '186', '188', '167'], dtype=object)"
      ]
     },
     "execution_count": 6,
     "metadata": {},
     "output_type": "execute_result"
    }
   ],
   "source": [
    "df['Innings Runs Scored Num'].unique()"
   ]
  },
  {
   "cell_type": "code",
   "execution_count": 7,
   "id": "6766b3fb",
   "metadata": {},
   "outputs": [],
   "source": [
    "df1 = df[df['Innings Runs Scored Num'] != '-' ]"
   ]
  },
  {
   "cell_type": "code",
   "execution_count": 8,
   "id": "b2c0a0b8",
   "metadata": {},
   "outputs": [
    {
     "data": {
      "text/plain": [
       "(153579, 28)"
      ]
     },
     "execution_count": 8,
     "metadata": {},
     "output_type": "execute_result"
    }
   ],
   "source": [
    "df1.shape"
   ]
  },
  {
   "cell_type": "code",
   "execution_count": 9,
   "id": "8f623b6c",
   "metadata": {},
   "outputs": [
    {
     "data": {
      "text/plain": [
       "array(['65', '42', '18', '17', '13', '11', '5', '0', '120', '71', '20',\n",
       "       '16', '3', '2', '1', nan, '40', '6', '4', '87', '54', '46', '30',\n",
       "       '12', '69', '39', '14', '10', '9', '8', '7', '82', '52', '41',\n",
       "       '15', '98', '43', '19', '111', '48', '36', '25', '67', '60', '84',\n",
       "       '59', '55', '47', '85', '49', '45', '34', '29', '22', '74', '28',\n",
       "       '77', '50', '32', '23', '35', '122', '100', '95', '103', '113',\n",
       "       '53', '96', '27', '64', '58', '33', '31', '73', '56', '86', '62',\n",
       "       '106', '24', '57', '104', '26', '66', '51', '118', '105', '101',\n",
       "       '21', '79', '44', '102', '88', '80', '72', '97', '68', '89', '38',\n",
       "       '83', '63', '148', '166', '90', '76', '37', '70', '124', '94',\n",
       "       '140', '153', '107', '117', '121', '92', '78', '75', '114', '115',\n",
       "       '130', '128', '151', '110', '138', '135', '109', '61', '179',\n",
       "       '170', '112', '116', '91', '143', '93', '123', '145', '81', '150',\n",
       "       '162', '108', '131', '133', '137', '146', '139', '125', '129',\n",
       "       '157', '152', '144', '99', '127', '210', '147', '126', '181',\n",
       "       '160', '180', '208', '176', '168', '141', '132', '119', '154',\n",
       "       '185', '134', '156', '164', '173', '178', '171', '149', '237',\n",
       "       '159', '161', '215', '264', '136', '169', '209', '174', '189',\n",
       "       '183', '163', '219', '158', '175', '177', '200', '194', '142',\n",
       "       '172', '186', '188', '167'], dtype=object)"
      ]
     },
     "execution_count": 9,
     "metadata": {},
     "output_type": "execute_result"
    }
   ],
   "source": [
    "df1['Innings Runs Scored Num'].unique()"
   ]
  },
  {
   "cell_type": "code",
   "execution_count": 10,
   "id": "8ac5e094",
   "metadata": {},
   "outputs": [],
   "source": [
    "df2 = df1.dropna(subset = ['Innings Runs Scored Num'])"
   ]
  },
  {
   "cell_type": "code",
   "execution_count": 11,
   "id": "af0e71cd",
   "metadata": {},
   "outputs": [
    {
     "data": {
      "text/plain": [
       "array(['65', '42', '18', '17', '13', '11', '5', '0', '120', '71', '20',\n",
       "       '16', '3', '2', '1', '40', '6', '4', '87', '54', '46', '30', '12',\n",
       "       '69', '39', '14', '10', '9', '8', '7', '82', '52', '41', '15',\n",
       "       '98', '43', '19', '111', '48', '36', '25', '67', '60', '84', '59',\n",
       "       '55', '47', '85', '49', '45', '34', '29', '22', '74', '28', '77',\n",
       "       '50', '32', '23', '35', '122', '100', '95', '103', '113', '53',\n",
       "       '96', '27', '64', '58', '33', '31', '73', '56', '86', '62', '106',\n",
       "       '24', '57', '104', '26', '66', '51', '118', '105', '101', '21',\n",
       "       '79', '44', '102', '88', '80', '72', '97', '68', '89', '38', '83',\n",
       "       '63', '148', '166', '90', '76', '37', '70', '124', '94', '140',\n",
       "       '153', '107', '117', '121', '92', '78', '75', '114', '115', '130',\n",
       "       '128', '151', '110', '138', '135', '109', '61', '179', '170',\n",
       "       '112', '116', '91', '143', '93', '123', '145', '81', '150', '162',\n",
       "       '108', '131', '133', '137', '146', '139', '125', '129', '157',\n",
       "       '152', '144', '99', '127', '210', '147', '126', '181', '160',\n",
       "       '180', '208', '176', '168', '141', '132', '119', '154', '185',\n",
       "       '134', '156', '164', '173', '178', '171', '149', '237', '159',\n",
       "       '161', '215', '264', '136', '169', '209', '174', '189', '183',\n",
       "       '163', '219', '158', '175', '177', '200', '194', '142', '172',\n",
       "       '186', '188', '167'], dtype=object)"
      ]
     },
     "execution_count": 11,
     "metadata": {},
     "output_type": "execute_result"
    }
   ],
   "source": [
    "df2['Innings Runs Scored Num'].unique()"
   ]
  },
  {
   "cell_type": "markdown",
   "id": "e2df4d55",
   "metadata": {},
   "source": [
    "### Convert Innings Date Column to Datetime Object"
   ]
  },
  {
   "cell_type": "code",
   "execution_count": 12,
   "id": "2c4e4d2f",
   "metadata": {},
   "outputs": [],
   "source": [
    "df2['Innings Date'] = pd.to_datetime(df2['Innings Date'])"
   ]
  },
  {
   "cell_type": "code",
   "execution_count": 13,
   "id": "22ba1301",
   "metadata": {},
   "outputs": [
    {
     "data": {
      "text/plain": [
       "pandas.core.series.Series"
      ]
     },
     "execution_count": 13,
     "metadata": {},
     "output_type": "execute_result"
    }
   ],
   "source": [
    "type(df2['Innings Date'])"
   ]
  },
  {
   "cell_type": "code",
   "execution_count": 14,
   "id": "ed7304ee",
   "metadata": {},
   "outputs": [],
   "source": [
    "df2['year'] = df2['Innings Date'].dt.year"
   ]
  },
  {
   "cell_type": "code",
   "execution_count": 15,
   "id": "d5eb85bf",
   "metadata": {
    "scrolled": true
   },
   "outputs": [
    {
     "data": {
      "text/html": [
       "<div>\n",
       "<style scoped>\n",
       "    .dataframe tbody tr th:only-of-type {\n",
       "        vertical-align: middle;\n",
       "    }\n",
       "\n",
       "    .dataframe tbody tr th {\n",
       "        vertical-align: top;\n",
       "    }\n",
       "\n",
       "    .dataframe thead th {\n",
       "        text-align: right;\n",
       "    }\n",
       "</style>\n",
       "<table border=\"1\" class=\"dataframe\">\n",
       "  <thead>\n",
       "    <tr style=\"text-align: right;\">\n",
       "      <th></th>\n",
       "      <th>Innings Player</th>\n",
       "      <th>Innings Runs Scored</th>\n",
       "      <th>Innings Runs Scored Num</th>\n",
       "      <th>Innings Minutes Batted</th>\n",
       "      <th>Innings Batted Flag</th>\n",
       "      <th>Innings Not Out Flag</th>\n",
       "      <th>Innings Balls Faced</th>\n",
       "      <th>Innings Boundary Fours</th>\n",
       "      <th>Innings Boundary Sixes</th>\n",
       "      <th>Innings Batting Strike Rate</th>\n",
       "      <th>Innings Number</th>\n",
       "      <th>Opposition</th>\n",
       "      <th>Ground</th>\n",
       "      <th>Innings Date</th>\n",
       "      <th>Country</th>\n",
       "      <th>50's</th>\n",
       "      <th>100's</th>\n",
       "      <th>Innings Runs Scored Buckets</th>\n",
       "      <th>Innings Overs Bowled</th>\n",
       "      <th>Innings Bowled Flag</th>\n",
       "      <th>Innings Maidens Bowled</th>\n",
       "      <th>Innings Runs Conceded</th>\n",
       "      <th>Innings Wickets Taken</th>\n",
       "      <th>4 Wickets</th>\n",
       "      <th>5 Wickets</th>\n",
       "      <th>10 Wickets</th>\n",
       "      <th>Innings Wickets Taken Buckets</th>\n",
       "      <th>Innings Economy Rate</th>\n",
       "      <th>year</th>\n",
       "    </tr>\n",
       "  </thead>\n",
       "  <tbody>\n",
       "    <tr>\n",
       "      <th>171941</th>\n",
       "      <td>RW Marsh</td>\n",
       "      <td>10*</td>\n",
       "      <td>10</td>\n",
       "      <td>24</td>\n",
       "      <td>1.0</td>\n",
       "      <td>1.0</td>\n",
       "      <td>18</td>\n",
       "      <td>2</td>\n",
       "      <td>0</td>\n",
       "      <td>55.55</td>\n",
       "      <td>2</td>\n",
       "      <td>v England</td>\n",
       "      <td>Melbourne</td>\n",
       "      <td>1971-05-01</td>\n",
       "      <td>Australia</td>\n",
       "      <td>0.0</td>\n",
       "      <td>0.0</td>\n",
       "      <td>0-49</td>\n",
       "      <td>NaN</td>\n",
       "      <td>NaN</td>\n",
       "      <td>NaN</td>\n",
       "      <td>NaN</td>\n",
       "      <td>NaN</td>\n",
       "      <td>NaN</td>\n",
       "      <td>NaN</td>\n",
       "      <td>NaN</td>\n",
       "      <td>NaN</td>\n",
       "      <td>NaN</td>\n",
       "      <td>1971</td>\n",
       "    </tr>\n",
       "  </tbody>\n",
       "</table>\n",
       "</div>"
      ],
      "text/plain": [
       "       Innings Player Innings Runs Scored Innings Runs Scored Num Innings Minutes Batted  Innings Batted Flag  Innings Not Out Flag Innings Balls Faced Innings Boundary Fours Innings Boundary Sixes Innings Batting Strike Rate Innings Number Opposition     Ground Innings Date    Country  50's  100's Innings Runs Scored Buckets Innings Overs Bowled  Innings Bowled Flag Innings Maidens Bowled Innings Runs Conceded Innings Wickets Taken  4 Wickets  5 Wickets  10 Wickets Innings Wickets Taken Buckets Innings Economy Rate  year\n",
       "171941  RW Marsh       10*                 10                      24                     1.0                  1.0                   18                  2                      0                      55.55                       2              v England  Melbourne 1971-05-01    Australia  0.0   0.0    0-49                        NaN                 NaN                   NaN                    NaN                   NaN                  NaN        NaN        NaN          NaN                           NaN                  1971"
      ]
     },
     "execution_count": 15,
     "metadata": {},
     "output_type": "execute_result"
    }
   ],
   "source": [
    "df2.tail(1)"
   ]
  },
  {
   "cell_type": "code",
   "execution_count": 16,
   "id": "5e47236b",
   "metadata": {},
   "outputs": [],
   "source": [
    "#Convert runs column from object to int\n",
    "df2['Innings Runs Scored Num'] = df2['Innings Runs Scored Num'].astype('int')"
   ]
  },
  {
   "cell_type": "code",
   "execution_count": 17,
   "id": "6d89988f",
   "metadata": {},
   "outputs": [],
   "source": [
    "#Convert Balls column from object to int\n",
    "df2['Innings Balls Faced'] = df2['Innings Balls Faced'].astype('int')"
   ]
  },
  {
   "cell_type": "code",
   "execution_count": 18,
   "id": "c391d7a8",
   "metadata": {},
   "outputs": [],
   "source": [
    "#Convert some other things also to int\n",
    "df2['Innings Not Out Flag'] = df2['Innings Not Out Flag'].astype('int')\n",
    "df2['50\\'s'] = df2['50\\'s'].astype('int')\n",
    "df2['100\\'s'] = df2['100\\'s'].astype('int')"
   ]
  },
  {
   "cell_type": "code",
   "execution_count": 19,
   "id": "3932d322",
   "metadata": {},
   "outputs": [
    {
     "data": {
      "text/plain": [
       "Innings Player                   object        \n",
       "Innings Runs Scored              object        \n",
       "Innings Runs Scored Num          int32         \n",
       "Innings Minutes Batted           object        \n",
       "Innings Batted Flag              float64       \n",
       "Innings Not Out Flag             int32         \n",
       "Innings Balls Faced              int32         \n",
       "Innings Boundary Fours           object        \n",
       "Innings Boundary Sixes           object        \n",
       "Innings Batting Strike Rate      object        \n",
       "Innings Number                   object        \n",
       "Opposition                       object        \n",
       "Ground                           object        \n",
       "Innings Date                     datetime64[ns]\n",
       "Country                          object        \n",
       "50's                             int32         \n",
       "100's                            int32         \n",
       "Innings Runs Scored Buckets      object        \n",
       "Innings Overs Bowled             object        \n",
       "Innings Bowled Flag              float64       \n",
       "Innings Maidens Bowled           object        \n",
       "Innings Runs Conceded            object        \n",
       "Innings Wickets Taken            object        \n",
       "4 Wickets                        float64       \n",
       "5 Wickets                        float64       \n",
       "10 Wickets                       float64       \n",
       "Innings Wickets Taken Buckets    object        \n",
       "Innings Economy Rate             object        \n",
       "year                             int64         \n",
       "dtype: object"
      ]
     },
     "execution_count": 19,
     "metadata": {},
     "output_type": "execute_result"
    }
   ],
   "source": [
    "df2.dtypes"
   ]
  },
  {
   "cell_type": "markdown",
   "id": "e0058e20",
   "metadata": {},
   "source": [
    "### Lets bring an equal timespan to compare both the players\n",
    "#### Sachin 1994-2004\n",
    "#### Virat 2009-2019\n",
    "#### Total 11 years of Data of both the players"
   ]
  },
  {
   "cell_type": "code",
   "execution_count": 20,
   "id": "0fcfd57a",
   "metadata": {},
   "outputs": [],
   "source": [
    "sachin_df = df2[(df2.year >= 1994) & (df2.year <= 2004)]\n",
    "virat_df = df2[(df2.year >= 2009) & (df2.year <= 2019)]"
   ]
  },
  {
   "cell_type": "markdown",
   "id": "6dd59486",
   "metadata": {},
   "source": [
    "#### Runs per innings - Total Runs/Total Innings\n",
    "#### SR - 100*(Total Runs/Total Balls)\n",
    "#### 100's - sum(100's)\n",
    "#### 50's - sum(50's)\n",
    "#### Team Contribution - Player Runs/Team Runs (ex: Virat 50/Team Ind 150 -> 50/150 : 33%"
   ]
  },
  {
   "cell_type": "code",
   "execution_count": 21,
   "id": "a5088847",
   "metadata": {},
   "outputs": [
    {
     "data": {
      "text/plain": [
       "(22207, 29)"
      ]
     },
     "execution_count": 21,
     "metadata": {},
     "output_type": "execute_result"
    }
   ],
   "source": [
    "sachin_df.shape"
   ]
  },
  {
   "cell_type": "code",
   "execution_count": 22,
   "id": "8042059c",
   "metadata": {},
   "outputs": [
    {
     "data": {
      "text/html": [
       "<div>\n",
       "<style scoped>\n",
       "    .dataframe tbody tr th:only-of-type {\n",
       "        vertical-align: middle;\n",
       "    }\n",
       "\n",
       "    .dataframe tbody tr th {\n",
       "        vertical-align: top;\n",
       "    }\n",
       "\n",
       "    .dataframe thead th {\n",
       "        text-align: right;\n",
       "    }\n",
       "</style>\n",
       "<table border=\"1\" class=\"dataframe\">\n",
       "  <thead>\n",
       "    <tr style=\"text-align: right;\">\n",
       "      <th></th>\n",
       "      <th>Innings Player</th>\n",
       "      <th>Innings Runs Scored</th>\n",
       "      <th>Innings Runs Scored Num</th>\n",
       "      <th>Innings Minutes Batted</th>\n",
       "      <th>Innings Batted Flag</th>\n",
       "      <th>Innings Not Out Flag</th>\n",
       "      <th>Innings Balls Faced</th>\n",
       "      <th>Innings Boundary Fours</th>\n",
       "      <th>Innings Boundary Sixes</th>\n",
       "      <th>Innings Batting Strike Rate</th>\n",
       "      <th>Innings Number</th>\n",
       "      <th>Opposition</th>\n",
       "      <th>Ground</th>\n",
       "      <th>Innings Date</th>\n",
       "      <th>Country</th>\n",
       "      <th>50's</th>\n",
       "      <th>100's</th>\n",
       "      <th>Innings Runs Scored Buckets</th>\n",
       "      <th>Innings Overs Bowled</th>\n",
       "      <th>Innings Bowled Flag</th>\n",
       "      <th>Innings Maidens Bowled</th>\n",
       "      <th>Innings Runs Conceded</th>\n",
       "      <th>Innings Wickets Taken</th>\n",
       "      <th>4 Wickets</th>\n",
       "      <th>5 Wickets</th>\n",
       "      <th>10 Wickets</th>\n",
       "      <th>Innings Wickets Taken Buckets</th>\n",
       "      <th>Innings Economy Rate</th>\n",
       "      <th>year</th>\n",
       "    </tr>\n",
       "  </thead>\n",
       "  <tbody>\n",
       "    <tr>\n",
       "      <th>77610</th>\n",
       "      <td>V Sehwag</td>\n",
       "      <td>70</td>\n",
       "      <td>70</td>\n",
       "      <td>85</td>\n",
       "      <td>1.0</td>\n",
       "      <td>0</td>\n",
       "      <td>52</td>\n",
       "      <td>9</td>\n",
       "      <td>2</td>\n",
       "      <td>134.61</td>\n",
       "      <td>1</td>\n",
       "      <td>v Bangladesh</td>\n",
       "      <td>Dhaka</td>\n",
       "      <td>2004-12-27</td>\n",
       "      <td>India</td>\n",
       "      <td>1</td>\n",
       "      <td>0</td>\n",
       "      <td>50-99</td>\n",
       "      <td>NaN</td>\n",
       "      <td>NaN</td>\n",
       "      <td>NaN</td>\n",
       "      <td>NaN</td>\n",
       "      <td>NaN</td>\n",
       "      <td>NaN</td>\n",
       "      <td>NaN</td>\n",
       "      <td>NaN</td>\n",
       "      <td>NaN</td>\n",
       "      <td>NaN</td>\n",
       "      <td>2004</td>\n",
       "    </tr>\n",
       "    <tr>\n",
       "      <th>77611</th>\n",
       "      <td>Yuvraj Singh</td>\n",
       "      <td>69</td>\n",
       "      <td>69</td>\n",
       "      <td>34</td>\n",
       "      <td>1.0</td>\n",
       "      <td>0</td>\n",
       "      <td>32</td>\n",
       "      <td>8</td>\n",
       "      <td>3</td>\n",
       "      <td>215.62</td>\n",
       "      <td>1</td>\n",
       "      <td>v Bangladesh</td>\n",
       "      <td>Dhaka</td>\n",
       "      <td>2004-12-27</td>\n",
       "      <td>India</td>\n",
       "      <td>1</td>\n",
       "      <td>0</td>\n",
       "      <td>50-99</td>\n",
       "      <td>NaN</td>\n",
       "      <td>NaN</td>\n",
       "      <td>NaN</td>\n",
       "      <td>NaN</td>\n",
       "      <td>NaN</td>\n",
       "      <td>NaN</td>\n",
       "      <td>NaN</td>\n",
       "      <td>NaN</td>\n",
       "      <td>NaN</td>\n",
       "      <td>NaN</td>\n",
       "      <td>2004</td>\n",
       "    </tr>\n",
       "  </tbody>\n",
       "</table>\n",
       "</div>"
      ],
      "text/plain": [
       "      Innings Player Innings Runs Scored  Innings Runs Scored Num Innings Minutes Batted  Innings Batted Flag  Innings Not Out Flag  Innings Balls Faced Innings Boundary Fours Innings Boundary Sixes Innings Batting Strike Rate Innings Number    Opposition Ground Innings Date Country  50's  100's Innings Runs Scored Buckets Innings Overs Bowled  Innings Bowled Flag Innings Maidens Bowled Innings Runs Conceded Innings Wickets Taken  4 Wickets  5 Wickets  10 Wickets Innings Wickets Taken Buckets Innings Economy Rate  year\n",
       "77610  V Sehwag       70                  70                       85                     1.0                  0                     52                   9                      2                      134.61                      1              v Bangladesh  Dhaka 2004-12-27    India   1     0      50-99                       NaN                 NaN                   NaN                    NaN                   NaN                  NaN        NaN        NaN          NaN                           NaN                  2004\n",
       "77611  Yuvraj Singh   69                  69                       34                     1.0                  0                     32                   8                      3                      215.62                      1              v Bangladesh  Dhaka 2004-12-27    India   1     0      50-99                       NaN                 NaN                   NaN                    NaN                   NaN                  NaN        NaN        NaN          NaN                           NaN                  2004"
      ]
     },
     "execution_count": 22,
     "metadata": {},
     "output_type": "execute_result"
    }
   ],
   "source": [
    "sachin_df.head(2)"
   ]
  },
  {
   "cell_type": "code",
   "execution_count": 23,
   "id": "e19a8456",
   "metadata": {},
   "outputs": [],
   "source": [
    "#Extract particular sachin's data\n",
    "sachin_df1 = sachin_df[sachin_df['Innings Player'] == 'SR Tendulkar']"
   ]
  },
  {
   "cell_type": "code",
   "execution_count": 24,
   "id": "36cee766",
   "metadata": {},
   "outputs": [
    {
     "data": {
      "text/plain": [
       "(271, 29)"
      ]
     },
     "execution_count": 24,
     "metadata": {},
     "output_type": "execute_result"
    }
   ],
   "source": [
    "sachin_df1.shape"
   ]
  },
  {
   "cell_type": "code",
   "execution_count": 25,
   "id": "46e6e76d",
   "metadata": {},
   "outputs": [],
   "source": [
    "#Just to save a local separate file\n",
    "sachin_df1.to_csv('sachin_odi_data.csv')"
   ]
  },
  {
   "cell_type": "code",
   "execution_count": 103,
   "id": "532eb5d1",
   "metadata": {},
   "outputs": [
    {
     "name": "stdout",
     "output_type": "stream",
     "text": [
      "Total runs of Sachin are 11818\n"
     ]
    }
   ],
   "source": [
    "#Calculate no of runs scored by sachin\n",
    "SachinRuns = sum(sachin_df1['Innings Runs Scored Num'])\n",
    "print('Total runs of Sachin are',SachinRuns)"
   ]
  },
  {
   "cell_type": "code",
   "execution_count": 27,
   "id": "fcf66d9e",
   "metadata": {},
   "outputs": [],
   "source": [
    "#Extract particular virat's data\n",
    "virat_df1 = virat_df[virat_df['Innings Player'] == 'V Kohli']"
   ]
  },
  {
   "cell_type": "code",
   "execution_count": 28,
   "id": "aaf3080a",
   "metadata": {},
   "outputs": [
    {
     "data": {
      "text/plain": [
       "(224, 29)"
      ]
     },
     "execution_count": 28,
     "metadata": {},
     "output_type": "execute_result"
    }
   ],
   "source": [
    "virat_df1.shape"
   ]
  },
  {
   "cell_type": "code",
   "execution_count": 29,
   "id": "ef7e5c10",
   "metadata": {},
   "outputs": [],
   "source": [
    "#Just to save a local separate file\n",
    "virat_df1.to_csv('virat_odi_data.csv')"
   ]
  },
  {
   "cell_type": "code",
   "execution_count": 102,
   "id": "e672aa79",
   "metadata": {},
   "outputs": [
    {
     "name": "stdout",
     "output_type": "stream",
     "text": [
      "Total runs of Virat are 11247\n"
     ]
    }
   ],
   "source": [
    "#Calculate no of runs scored by virat\n",
    "ViratRuns = sum(virat_df1['Innings Runs Scored Num'])\n",
    "print('Total runs of Virat are',ViratRuns)"
   ]
  },
  {
   "cell_type": "code",
   "execution_count": 101,
   "id": "11bb5357",
   "metadata": {},
   "outputs": [
    {
     "name": "stdout",
     "output_type": "stream",
     "text": [
      "Total Sachin innings are 271\n",
      "Total Virat innings are 224\n"
     ]
    }
   ],
   "source": [
    "print('Total Sachin innings are',len(sachin_df1))\n",
    "print('Total Virat innings are',len(virat_df1))"
   ]
  },
  {
   "cell_type": "code",
   "execution_count": 105,
   "id": "a55d2757",
   "metadata": {},
   "outputs": [
    {
     "name": "stdout",
     "output_type": "stream",
     "text": [
      "Total Sachin Runs per Innings are 43.61\n",
      "Total Virat Runs per Innings are 50.21\n"
     ]
    }
   ],
   "source": [
    "#Runs per Innings - Sachin,Virat\n",
    "print('Total Sachin Runs per Innings are',round(SachinRuns/len(sachin_df1),2))\n",
    "print('Total Virat Runs per Innings are',round(ViratRuns/len(virat_df1),2))"
   ]
  },
  {
   "cell_type": "code",
   "execution_count": 112,
   "id": "dca129e3",
   "metadata": {},
   "outputs": [
    {
     "name": "stdout",
     "output_type": "stream",
     "text": [
      "SR of Sachin was 88.21\n"
     ]
    }
   ],
   "source": [
    "# SR - Sachin\n",
    "print('SR of Sachin was',round(100*SachinRuns/sum(sachin_df1['Innings Balls Faced']),2))"
   ]
  },
  {
   "cell_type": "code",
   "execution_count": 113,
   "id": "34f12a4c",
   "metadata": {},
   "outputs": [
    {
     "name": "stdout",
     "output_type": "stream",
     "text": [
      "SR of Virat was 93.56\n"
     ]
    }
   ],
   "source": [
    "# SR - Virat\n",
    "print('SR of Virat was',round(100*ViratRuns/sum(virat_df1['Innings Balls Faced']),2))"
   ]
  },
  {
   "cell_type": "code",
   "execution_count": 115,
   "id": "29ad113a",
   "metadata": {},
   "outputs": [
    {
     "name": "stdout",
     "output_type": "stream",
     "text": [
      "Total Sachin 100s are 37\n",
      "Total Virat 100s are 42\n"
     ]
    }
   ],
   "source": [
    "#100's\n",
    "print('Total Sachin 100s are',sum(sachin_df1['100\\'s']))\n",
    "print('Total Virat 100s are',sum(virat_df1['100\\'s']))"
   ]
  },
  {
   "cell_type": "code",
   "execution_count": 117,
   "id": "c61c5dfe",
   "metadata": {},
   "outputs": [
    {
     "name": "stdout",
     "output_type": "stream",
     "text": [
      "Total Sachin 50s are 57\n",
      "Total Virat 50s are 53\n"
     ]
    }
   ],
   "source": [
    "#50's\n",
    "print('Total Sachin 50s are',sum(sachin_df1['50\\'s']))\n",
    "print('Total Virat 50s are',sum(virat_df1['50\\'s']))"
   ]
  },
  {
   "cell_type": "code",
   "execution_count": 140,
   "id": "e452329a",
   "metadata": {},
   "outputs": [
    {
     "name": "stdout",
     "output_type": "stream",
     "text": [
      "Percentage contribution of Sachin in Team Runs is  16.95 %\n"
     ]
    }
   ],
   "source": [
    "# Sachin Team Contribution - Runs scored by each player, Runs by team\n",
    "#-----------\n",
    "# 1994 - 2004 = All players\n",
    "SachinTeamTotalRuns = sum(sachin_df[sachin_df.Country == 'India']['Innings Runs Scored Num'])\n",
    "#Sachin's Contribution in percentage\n",
    "SachinTeamContri = round(100*SachinRuns/SachinTeamTotalRuns,2)\n",
    "print('Percentage contribution of Sachin in Team Runs is ',SachinTeamContri,'%')"
   ]
  },
  {
   "cell_type": "code",
   "execution_count": 141,
   "id": "e39105ca",
   "metadata": {},
   "outputs": [
    {
     "name": "stdout",
     "output_type": "stream",
     "text": [
      "Percentage contribution of Virat in Team Runs is  17.61 %\n"
     ]
    }
   ],
   "source": [
    "# Virat Team Contribution - Runs scored by each player, Runs by team\n",
    "#-----------\n",
    "# 2009 - 2019 = All players\n",
    "ViratTeamTotalRuns = sum(virat_df[virat_df.Country == 'India']['Innings Runs Scored Num'])\n",
    "#Virat's Contribution in percentage\n",
    "ViratTeamContri = round(100*ViratRuns/ViratTeamTotalRuns,2)\n",
    "print('Percentage contribution of Virat in Team Runs is ',ViratTeamContri,'%')"
   ]
  },
  {
   "cell_type": "markdown",
   "id": "693f4bd0",
   "metadata": {},
   "source": [
    "### Visualization (1st in Matplot, 2nd in Seaborn)"
   ]
  },
  {
   "cell_type": "code",
   "execution_count": 39,
   "id": "3ffbcb72",
   "metadata": {},
   "outputs": [
    {
     "data": {
      "image/png": "[encoded data removed]",
      "text/plain": [
       "<Figure size 432x288 with 1 Axes>"
      ]
     },
     "metadata": {
      "needs_background": "light"
     },
     "output_type": "display_data"
    }
   ],
   "source": [
    "plt.title('Comparing top 10 player from the era 1994-2004')\n",
    "plt.xlabel('Number of Runs')\n",
    "sachin_df.groupby(['Innings Player'])['Innings Runs Scored Num'].sum().sort_values(ascending = False).head(10).plot(kind = 'barh')\n",
    "plt.show()"
   ]
  },
  {
   "cell_type": "code",
   "execution_count": 40,
   "id": "bb7d476b",
   "metadata": {},
   "outputs": [],
   "source": [
    "SV = sachin_df.groupby(['Innings Player'])['Innings Runs Scored Num'].sum().sort_values(ascending = False).head(10)"
   ]
  },
  {
   "cell_type": "code",
   "execution_count": 41,
   "id": "8689628a",
   "metadata": {},
   "outputs": [
    {
     "data": {
      "text/plain": [
       "Innings Player\n",
       "SR Tendulkar      11818\n",
       "SC Ganguly        9911 \n",
       "ST Jayasuriya     9297 \n",
       "Inzamam-ul-Haq    8561 \n",
       "R Dravid          7751 \n",
       "RT Ponting        7422 \n",
       "Saeed Anwar       7320 \n",
       "JH Kallis         7267 \n",
       "MS Atapattu       7253 \n",
       "MG Bevan          6912 \n",
       "Name: Innings Runs Scored Num, dtype: int32"
      ]
     },
     "execution_count": 41,
     "metadata": {},
     "output_type": "execute_result"
    }
   ],
   "source": [
    "SV"
   ]
  },
  {
   "cell_type": "code",
   "execution_count": 42,
   "id": "0fd0fb1a",
   "metadata": {},
   "outputs": [
    {
     "data": {
      "text/plain": [
       "pandas.core.frame.DataFrame"
      ]
     },
     "execution_count": 42,
     "metadata": {},
     "output_type": "execute_result"
    }
   ],
   "source": [
    "SV1 = SV.to_frame()\n",
    "type(SV1)"
   ]
  },
  {
   "cell_type": "code",
   "execution_count": 43,
   "id": "ba4d8ca9",
   "metadata": {},
   "outputs": [
    {
     "data": {
      "text/html": [
       "<div>\n",
       "<style scoped>\n",
       "    .dataframe tbody tr th:only-of-type {\n",
       "        vertical-align: middle;\n",
       "    }\n",
       "\n",
       "    .dataframe tbody tr th {\n",
       "        vertical-align: top;\n",
       "    }\n",
       "\n",
       "    .dataframe thead th {\n",
       "        text-align: right;\n",
       "    }\n",
       "</style>\n",
       "<table border=\"1\" class=\"dataframe\">\n",
       "  <thead>\n",
       "    <tr style=\"text-align: right;\">\n",
       "      <th></th>\n",
       "      <th>Innings Runs Scored Num</th>\n",
       "    </tr>\n",
       "    <tr>\n",
       "      <th>Innings Player</th>\n",
       "      <th></th>\n",
       "    </tr>\n",
       "  </thead>\n",
       "  <tbody>\n",
       "    <tr>\n",
       "      <th>SR Tendulkar</th>\n",
       "      <td>11818</td>\n",
       "    </tr>\n",
       "    <tr>\n",
       "      <th>SC Ganguly</th>\n",
       "      <td>9911</td>\n",
       "    </tr>\n",
       "    <tr>\n",
       "      <th>ST Jayasuriya</th>\n",
       "      <td>9297</td>\n",
       "    </tr>\n",
       "    <tr>\n",
       "      <th>Inzamam-ul-Haq</th>\n",
       "      <td>8561</td>\n",
       "    </tr>\n",
       "    <tr>\n",
       "      <th>R Dravid</th>\n",
       "      <td>7751</td>\n",
       "    </tr>\n",
       "    <tr>\n",
       "      <th>RT Ponting</th>\n",
       "      <td>7422</td>\n",
       "    </tr>\n",
       "    <tr>\n",
       "      <th>Saeed Anwar</th>\n",
       "      <td>7320</td>\n",
       "    </tr>\n",
       "    <tr>\n",
       "      <th>JH Kallis</th>\n",
       "      <td>7267</td>\n",
       "    </tr>\n",
       "    <tr>\n",
       "      <th>MS Atapattu</th>\n",
       "      <td>7253</td>\n",
       "    </tr>\n",
       "    <tr>\n",
       "      <th>MG Bevan</th>\n",
       "      <td>6912</td>\n",
       "    </tr>\n",
       "  </tbody>\n",
       "</table>\n",
       "</div>"
      ],
      "text/plain": [
       "                Innings Runs Scored Num\n",
       "Innings Player                         \n",
       "SR Tendulkar    11818                  \n",
       "SC Ganguly      9911                   \n",
       "ST Jayasuriya   9297                   \n",
       "Inzamam-ul-Haq  8561                   \n",
       "R Dravid        7751                   \n",
       "RT Ponting      7422                   \n",
       "Saeed Anwar     7320                   \n",
       "JH Kallis       7267                   \n",
       "MS Atapattu     7253                   \n",
       "MG Bevan        6912                   "
      ]
     },
     "execution_count": 43,
     "metadata": {},
     "output_type": "execute_result"
    }
   ],
   "source": [
    "SV1"
   ]
  },
  {
   "cell_type": "code",
   "execution_count": 44,
   "id": "68006272",
   "metadata": {},
   "outputs": [],
   "source": [
    "SV1.reset_index(level=0, inplace=True)"
   ]
  },
  {
   "cell_type": "code",
   "execution_count": 45,
   "id": "d3e614a9",
   "metadata": {},
   "outputs": [],
   "source": [
    "SV1.columns = ['Player','Runs']"
   ]
  },
  {
   "cell_type": "code",
   "execution_count": 46,
   "id": "d1a6c621",
   "metadata": {},
   "outputs": [
    {
     "data": {
      "image/png": "[encoded data removed]",
      "text/plain": [
       "<Figure size 576x432 with 1 Axes>"
      ]
     },
     "metadata": {
      "needs_background": "light"
     },
     "output_type": "display_data"
    }
   ],
   "source": [
    "fig = plt.subplots(figsize=(8, 6))\n",
    "plt.title('Comparing top 10 player from the era 1994-2004 in ODI')\n",
    "sns.barplot(x='Runs',y='Player',data=SV1)\n",
    "plt.xlabel('Number of Runs')\n",
    "plt.show()"
   ]
  },
  {
   "cell_type": "code",
   "execution_count": 47,
   "id": "b85f58f8",
   "metadata": {},
   "outputs": [
    {
     "data": {
      "image/png": "[encoded data removed]",
      "text/plain": [
       "<Figure size 432x288 with 1 Axes>"
      ]
     },
     "metadata": {
      "needs_background": "light"
     },
     "output_type": "display_data"
    }
   ],
   "source": [
    "plt.title('Comparing top 10 player from the era 2009-2019')\n",
    "plt.xlabel('Number of Runs')\n",
    "virat_df.groupby(['Innings Player'])['Innings Runs Scored Num'].sum().sort_values(ascending = False).head(10).plot(kind = 'barh')\n",
    "plt.show()"
   ]
  },
  {
   "cell_type": "code",
   "execution_count": 48,
   "id": "87132052",
   "metadata": {},
   "outputs": [],
   "source": [
    "VV = virat_df.groupby(['Innings Player'])['Innings Runs Scored Num'].sum().sort_values(ascending = False).head(10)"
   ]
  },
  {
   "cell_type": "code",
   "execution_count": 49,
   "id": "7504fd2d",
   "metadata": {},
   "outputs": [
    {
     "data": {
      "text/plain": [
       "Innings Player\n",
       "V Kohli           11247\n",
       "RG Sharma         8083 \n",
       "HM Amla           7745 \n",
       "TM Dilshan        7296 \n",
       "KC Sangakkara     7275 \n",
       "AB de Villiers    7247 \n",
       "LRPL Taylor       7059 \n",
       "MS Dhoni          6838 \n",
       "EJG Morgan        6748 \n",
       "MJ Guptill        6626 \n",
       "Name: Innings Runs Scored Num, dtype: int32"
      ]
     },
     "execution_count": 49,
     "metadata": {},
     "output_type": "execute_result"
    }
   ],
   "source": [
    "VV"
   ]
  },
  {
   "cell_type": "code",
   "execution_count": 50,
   "id": "0f454882",
   "metadata": {},
   "outputs": [
    {
     "data": {
      "text/plain": [
       "pandas.core.frame.DataFrame"
      ]
     },
     "execution_count": 50,
     "metadata": {},
     "output_type": "execute_result"
    }
   ],
   "source": [
    "VV1 = VV.to_frame()\n",
    "type(VV1)"
   ]
  },
  {
   "cell_type": "code",
   "execution_count": 51,
   "id": "f1eca5af",
   "metadata": {},
   "outputs": [
    {
     "data": {
      "text/html": [
       "<div>\n",
       "<style scoped>\n",
       "    .dataframe tbody tr th:only-of-type {\n",
       "        vertical-align: middle;\n",
       "    }\n",
       "\n",
       "    .dataframe tbody tr th {\n",
       "        vertical-align: top;\n",
       "    }\n",
       "\n",
       "    .dataframe thead th {\n",
       "        text-align: right;\n",
       "    }\n",
       "</style>\n",
       "<table border=\"1\" class=\"dataframe\">\n",
       "  <thead>\n",
       "    <tr style=\"text-align: right;\">\n",
       "      <th></th>\n",
       "      <th>Innings Runs Scored Num</th>\n",
       "    </tr>\n",
       "    <tr>\n",
       "      <th>Innings Player</th>\n",
       "      <th></th>\n",
       "    </tr>\n",
       "  </thead>\n",
       "  <tbody>\n",
       "    <tr>\n",
       "      <th>V Kohli</th>\n",
       "      <td>11247</td>\n",
       "    </tr>\n",
       "    <tr>\n",
       "      <th>RG Sharma</th>\n",
       "      <td>8083</td>\n",
       "    </tr>\n",
       "    <tr>\n",
       "      <th>HM Amla</th>\n",
       "      <td>7745</td>\n",
       "    </tr>\n",
       "    <tr>\n",
       "      <th>TM Dilshan</th>\n",
       "      <td>7296</td>\n",
       "    </tr>\n",
       "    <tr>\n",
       "      <th>KC Sangakkara</th>\n",
       "      <td>7275</td>\n",
       "    </tr>\n",
       "    <tr>\n",
       "      <th>AB de Villiers</th>\n",
       "      <td>7247</td>\n",
       "    </tr>\n",
       "    <tr>\n",
       "      <th>LRPL Taylor</th>\n",
       "      <td>7059</td>\n",
       "    </tr>\n",
       "    <tr>\n",
       "      <th>MS Dhoni</th>\n",
       "      <td>6838</td>\n",
       "    </tr>\n",
       "    <tr>\n",
       "      <th>EJG Morgan</th>\n",
       "      <td>6748</td>\n",
       "    </tr>\n",
       "    <tr>\n",
       "      <th>MJ Guptill</th>\n",
       "      <td>6626</td>\n",
       "    </tr>\n",
       "  </tbody>\n",
       "</table>\n",
       "</div>"
      ],
      "text/plain": [
       "                Innings Runs Scored Num\n",
       "Innings Player                         \n",
       "V Kohli         11247                  \n",
       "RG Sharma       8083                   \n",
       "HM Amla         7745                   \n",
       "TM Dilshan      7296                   \n",
       "KC Sangakkara   7275                   \n",
       "AB de Villiers  7247                   \n",
       "LRPL Taylor     7059                   \n",
       "MS Dhoni        6838                   \n",
       "EJG Morgan      6748                   \n",
       "MJ Guptill      6626                   "
      ]
     },
     "execution_count": 51,
     "metadata": {},
     "output_type": "execute_result"
    }
   ],
   "source": [
    "VV1"
   ]
  },
  {
   "cell_type": "code",
   "execution_count": 52,
   "id": "b2aecba6",
   "metadata": {},
   "outputs": [],
   "source": [
    "VV1.reset_index(level=0, inplace=True)"
   ]
  },
  {
   "cell_type": "code",
   "execution_count": 53,
   "id": "609dde42",
   "metadata": {},
   "outputs": [
    {
     "data": {
      "text/html": [
       "<div>\n",
       "<style scoped>\n",
       "    .dataframe tbody tr th:only-of-type {\n",
       "        vertical-align: middle;\n",
       "    }\n",
       "\n",
       "    .dataframe tbody tr th {\n",
       "        vertical-align: top;\n",
       "    }\n",
       "\n",
       "    .dataframe thead th {\n",
       "        text-align: right;\n",
       "    }\n",
       "</style>\n",
       "<table border=\"1\" class=\"dataframe\">\n",
       "  <thead>\n",
       "    <tr style=\"text-align: right;\">\n",
       "      <th></th>\n",
       "      <th>Innings Player</th>\n",
       "      <th>Innings Runs Scored Num</th>\n",
       "    </tr>\n",
       "  </thead>\n",
       "  <tbody>\n",
       "    <tr>\n",
       "      <th>0</th>\n",
       "      <td>V Kohli</td>\n",
       "      <td>11247</td>\n",
       "    </tr>\n",
       "    <tr>\n",
       "      <th>1</th>\n",
       "      <td>RG Sharma</td>\n",
       "      <td>8083</td>\n",
       "    </tr>\n",
       "    <tr>\n",
       "      <th>2</th>\n",
       "      <td>HM Amla</td>\n",
       "      <td>7745</td>\n",
       "    </tr>\n",
       "    <tr>\n",
       "      <th>3</th>\n",
       "      <td>TM Dilshan</td>\n",
       "      <td>7296</td>\n",
       "    </tr>\n",
       "    <tr>\n",
       "      <th>4</th>\n",
       "      <td>KC Sangakkara</td>\n",
       "      <td>7275</td>\n",
       "    </tr>\n",
       "    <tr>\n",
       "      <th>5</th>\n",
       "      <td>AB de Villiers</td>\n",
       "      <td>7247</td>\n",
       "    </tr>\n",
       "    <tr>\n",
       "      <th>6</th>\n",
       "      <td>LRPL Taylor</td>\n",
       "      <td>7059</td>\n",
       "    </tr>\n",
       "    <tr>\n",
       "      <th>7</th>\n",
       "      <td>MS Dhoni</td>\n",
       "      <td>6838</td>\n",
       "    </tr>\n",
       "    <tr>\n",
       "      <th>8</th>\n",
       "      <td>EJG Morgan</td>\n",
       "      <td>6748</td>\n",
       "    </tr>\n",
       "    <tr>\n",
       "      <th>9</th>\n",
       "      <td>MJ Guptill</td>\n",
       "      <td>6626</td>\n",
       "    </tr>\n",
       "  </tbody>\n",
       "</table>\n",
       "</div>"
      ],
      "text/plain": [
       "   Innings Player  Innings Runs Scored Num\n",
       "0  V Kohli         11247                  \n",
       "1  RG Sharma       8083                   \n",
       "2  HM Amla         7745                   \n",
       "3  TM Dilshan      7296                   \n",
       "4  KC Sangakkara   7275                   \n",
       "5  AB de Villiers  7247                   \n",
       "6  LRPL Taylor     7059                   \n",
       "7  MS Dhoni        6838                   \n",
       "8  EJG Morgan      6748                   \n",
       "9  MJ Guptill      6626                   "
      ]
     },
     "execution_count": 53,
     "metadata": {},
     "output_type": "execute_result"
    }
   ],
   "source": [
    "VV1"
   ]
  },
  {
   "cell_type": "code",
   "execution_count": 54,
   "id": "83a140a1",
   "metadata": {},
   "outputs": [],
   "source": [
    "VV1.columns = ['Player','Runs']"
   ]
  },
  {
   "cell_type": "code",
   "execution_count": 55,
   "id": "2b24ab39",
   "metadata": {},
   "outputs": [
    {
     "data": {
      "image/png": "[encoded data removed]",
      "text/plain": [
       "<Figure size 1440x720 with 1 Axes>"
      ]
     },
     "metadata": {
      "needs_background": "light"
     },
     "output_type": "display_data"
    }
   ],
   "source": [
    "fig = plt.subplots(figsize=(12, 6),dpi = 120)\n",
    "sns.set_style(\"whitegrid\")\n",
    "plt.title('Comparing top 10 player from the era 2009-2019 in ODI',size = 20,color='red')\n",
    "sns.barplot(x='Runs',y='Player',data=VV1,saturation=1)\n",
    "plt.xlabel('Number of Runs',size = 15,color='red')\n",
    "plt.ylabel('')\n",
    "plt.show()"
   ]
  },
  {
   "cell_type": "markdown",
   "id": "fb939227",
   "metadata": {},
   "source": [
    "### Progress of both the players year by year"
   ]
  },
  {
   "cell_type": "code",
   "execution_count": 56,
   "id": "b06e761c",
   "metadata": {},
   "outputs": [
    {
     "data": {
      "image/png": "[encoded data removed]",
      "text/plain": [
       "<Figure size 432x288 with 1 Axes>"
      ]
     },
     "metadata": {},
     "output_type": "display_data"
    }
   ],
   "source": [
    "sachin_df1.groupby(['year'])['Innings Runs Scored Num'].sum().plot(kind='bar')\n",
    "plt.show()"
   ]
  },
  {
   "cell_type": "code",
   "execution_count": 57,
   "id": "3cbe134a",
   "metadata": {},
   "outputs": [
    {
     "data": {
      "image/png": "[encoded data removed]",
      "text/plain": [
       "<Figure size 432x288 with 1 Axes>"
      ]
     },
     "metadata": {},
     "output_type": "display_data"
    }
   ],
   "source": [
    "virat_df1.groupby(['year'])['Innings Runs Scored Num'].sum().plot(kind='bar')\n",
    "plt.show()"
   ]
  },
  {
   "cell_type": "markdown",
   "id": "57299e10",
   "metadata": {},
   "source": [
    "## Normalization "
   ]
  },
  {
   "cell_type": "code",
   "execution_count": 58,
   "id": "37a838b5",
   "metadata": {},
   "outputs": [],
   "source": [
    "non_virat_df = virat_df[virat_df['Innings Player'] != 'V Kohli']"
   ]
  },
  {
   "cell_type": "code",
   "execution_count": 59,
   "id": "638aea84",
   "metadata": {},
   "outputs": [],
   "source": [
    "non_sachin_df = sachin_df[sachin_df['Innings Player'] != 'SR Tendulkar']"
   ]
  },
  {
   "cell_type": "markdown",
   "id": "2e0869ac",
   "metadata": {},
   "source": [
    "### Runs per Inning"
   ]
  },
  {
   "cell_type": "code",
   "execution_count": 60,
   "id": "acdd8157",
   "metadata": {},
   "outputs": [
    {
     "data": {
      "text/plain": [
       "24.737756786500366"
      ]
     },
     "execution_count": 60,
     "metadata": {},
     "output_type": "execute_result"
    }
   ],
   "source": [
    "#Average per inning score in virat generation\n",
    "(sum(non_virat_df['Innings Runs Scored Num'])/len(non_virat_df))"
   ]
  },
  {
   "cell_type": "code",
   "execution_count": 131,
   "id": "8e6646a1",
   "metadata": {},
   "outputs": [
    {
     "name": "stdout",
     "output_type": "stream",
     "text": [
      "Virat RPI = 2.03\n"
     ]
    }
   ],
   "source": [
    "ViratRPI = (ViratRuns/len(virat_df1))/(sum(non_virat_df['Innings Runs Scored Num'])/len(non_virat_df))\n",
    "print('Virat RPI =',round(ViratRPI,2))"
   ]
  },
  {
   "cell_type": "code",
   "execution_count": 62,
   "id": "e4e152df",
   "metadata": {},
   "outputs": [
    {
     "data": {
      "text/plain": [
       "22.43512946754194"
      ]
     },
     "execution_count": 62,
     "metadata": {},
     "output_type": "execute_result"
    }
   ],
   "source": [
    "#Average per inning score in sachin generation\n",
    "(sum(non_sachin_df['Innings Runs Scored Num'])/len(non_sachin_df))"
   ]
  },
  {
   "cell_type": "code",
   "execution_count": 132,
   "id": "7fcde58e",
   "metadata": {},
   "outputs": [
    {
     "name": "stdout",
     "output_type": "stream",
     "text": [
      "Sachin RPI = 1.94\n"
     ]
    }
   ],
   "source": [
    "SachinRPI = (SachinRuns/len(sachin_df1))/(sum(non_sachin_df['Innings Runs Scored Num'])/len(non_sachin_df))\n",
    "print('Sachin RPI =',round(SachinRPI,2))"
   ]
  },
  {
   "cell_type": "markdown",
   "id": "3022a46d",
   "metadata": {},
   "source": [
    "### Strike Rate"
   ]
  },
  {
   "cell_type": "code",
   "execution_count": 64,
   "id": "e8c48df5",
   "metadata": {},
   "outputs": [
    {
     "data": {
      "text/plain": [
       "0.8821377920429947"
      ]
     },
     "execution_count": 64,
     "metadata": {},
     "output_type": "execute_result"
    }
   ],
   "source": [
    "# sr of sachin\n",
    "SachinRuns/sum(sachin_df1['Innings Balls Faced'])"
   ]
  },
  {
   "cell_type": "code",
   "execution_count": 65,
   "id": "b02e00e6",
   "metadata": {},
   "outputs": [
    {
     "data": {
      "text/plain": [
       "0.7233808936558636"
      ]
     },
     "execution_count": 65,
     "metadata": {},
     "output_type": "execute_result"
    }
   ],
   "source": [
    "# sr of sachin's peers\n",
    "sum(non_sachin_df['Innings Runs Scored Num'])/sum(non_sachin_df['Innings Balls Faced']) "
   ]
  },
  {
   "cell_type": "code",
   "execution_count": 70,
   "id": "0af359b2",
   "metadata": {},
   "outputs": [
    {
     "data": {
      "text/plain": [
       "0.9356126778138258"
      ]
     },
     "execution_count": 70,
     "metadata": {},
     "output_type": "execute_result"
    }
   ],
   "source": [
    "# sr of kohli\n",
    "ViratRuns/sum(virat_df1['Innings Balls Faced'])"
   ]
  },
  {
   "cell_type": "code",
   "execution_count": 68,
   "id": "ecbeff6d",
   "metadata": {},
   "outputs": [
    {
     "data": {
      "text/plain": [
       "0.8342743413330611"
      ]
     },
     "execution_count": 68,
     "metadata": {},
     "output_type": "execute_result"
    }
   ],
   "source": [
    "# sr of kohli's peers\n",
    "sum(non_virat_df['Innings Runs Scored Num'])/sum(non_virat_df['Innings Balls Faced'])"
   ]
  },
  {
   "cell_type": "code",
   "execution_count": 134,
   "id": "b0dc6727",
   "metadata": {},
   "outputs": [
    {
     "name": "stdout",
     "output_type": "stream",
     "text": [
      "Sachin SR = 1.22\n"
     ]
    }
   ],
   "source": [
    "# normalized sachin's value\n",
    "sachin_sr = SachinRuns/sum(sachin_df1['Innings Balls Faced'])\n",
    "sachin_peer_sr = sum(non_sachin_df['Innings Runs Scored Num'])/sum(non_sachin_df['Innings Balls Faced']) \n",
    "SachinSR = round(sachin_sr/sachin_peer_sr,2)\n",
    "print('Sachin SR =',SachinSR)"
   ]
  },
  {
   "cell_type": "code",
   "execution_count": 135,
   "id": "be221604",
   "metadata": {},
   "outputs": [
    {
     "name": "stdout",
     "output_type": "stream",
     "text": [
      "Virat SR = 1.12\n"
     ]
    }
   ],
   "source": [
    "# normalized kohli's value\n",
    "kohli_sr = ViratRuns/sum(virat_df1['Innings Balls Faced'])\n",
    "kohli_peer_sr = sum(non_virat_df['Innings Runs Scored Num'])/sum(non_virat_df['Innings Balls Faced'])\n",
    "ViratSR = round(kohli_sr/kohli_peer_sr,2)\n",
    "print('Virat SR =',ViratSR)"
   ]
  },
  {
   "cell_type": "markdown",
   "id": "dd50cae2",
   "metadata": {},
   "source": [
    "### 100's: Number of matches to score a 100"
   ]
  },
  {
   "cell_type": "code",
   "execution_count": 72,
   "id": "b1e635ea",
   "metadata": {},
   "outputs": [
    {
     "data": {
      "text/plain": [
       "7.324324324324325"
      ]
     },
     "execution_count": 72,
     "metadata": {},
     "output_type": "execute_result"
    }
   ],
   "source": [
    "# sachin matches per 100\n",
    "len(sachin_df1)/sum(sachin_df1[\"100's\"])"
   ]
  },
  {
   "cell_type": "code",
   "execution_count": 73,
   "id": "ba260054",
   "metadata": {},
   "outputs": [
    {
     "data": {
      "text/plain": [
       "47.377969762419006"
      ]
     },
     "execution_count": 73,
     "metadata": {},
     "output_type": "execute_result"
    }
   ],
   "source": [
    "# sachin peers - matches per 100\n",
    "len(non_sachin_df)/sum(non_sachin_df[\"100's\"])"
   ]
  },
  {
   "cell_type": "code",
   "execution_count": 74,
   "id": "e61afff2",
   "metadata": {},
   "outputs": [
    {
     "data": {
      "text/plain": [
       "5.333333333333333"
      ]
     },
     "execution_count": 74,
     "metadata": {},
     "output_type": "execute_result"
    }
   ],
   "source": [
    "# kohli matches per 100\n",
    "len(virat_df1)/sum(virat_df1[\"100's\"])"
   ]
  },
  {
   "cell_type": "code",
   "execution_count": 75,
   "id": "8d918f34",
   "metadata": {},
   "outputs": [
    {
     "data": {
      "text/plain": [
       "29.311827956989248"
      ]
     },
     "execution_count": 75,
     "metadata": {},
     "output_type": "execute_result"
    }
   ],
   "source": [
    "# kohli peers - matches per 100\n",
    "len(non_virat_df)/sum(non_virat_df[\"100's\"])"
   ]
  },
  {
   "cell_type": "code",
   "execution_count": 136,
   "id": "8b8c2e38",
   "metadata": {},
   "outputs": [
    {
     "name": "stdout",
     "output_type": "stream",
     "text": [
      "Sachin matches per 100s are 0.15\n"
     ]
    }
   ],
   "source": [
    "# normalized sachin value\n",
    "sachin_mper_100 = len(sachin_df1)/sum(sachin_df1[\"100's\"])\n",
    "sachin_peers_mper_100 = len(non_sachin_df)/sum(non_sachin_df[\"100's\"])\n",
    "Sachin100 = round(sachin_mper_100/sachin_peers_mper_100,2)\n",
    "print('Sachin matches per 100s are',Sachin100)"
   ]
  },
  {
   "cell_type": "code",
   "execution_count": 137,
   "id": "4062a70c",
   "metadata": {},
   "outputs": [
    {
     "name": "stdout",
     "output_type": "stream",
     "text": [
      "Virat matches per 100s are 0.18\n"
     ]
    }
   ],
   "source": [
    "# normalized virat value\n",
    "kohli_mper_100 = len(virat_df1)/sum(virat_df1[\"100's\"])\n",
    "kohli_peers_mper_100 = len(non_virat_df)/sum(non_virat_df[\"100's\"])\n",
    "Virat100 = round(kohli_mper_100/kohli_peers_mper_100,2)\n",
    "print('Virat matches per 100s are',Virat100)"
   ]
  },
  {
   "cell_type": "markdown",
   "id": "fa4b535e",
   "metadata": {},
   "source": [
    "### 50's: Number of matches to score a 50"
   ]
  },
  {
   "cell_type": "code",
   "execution_count": 78,
   "id": "74d28675",
   "metadata": {},
   "outputs": [
    {
     "data": {
      "text/plain": [
       "4.754385964912281"
      ]
     },
     "execution_count": 78,
     "metadata": {},
     "output_type": "execute_result"
    }
   ],
   "source": [
    "# sachin matches per 50\n",
    "len(sachin_df1)/sum(sachin_df1[\"50's\"])"
   ]
  },
  {
   "cell_type": "code",
   "execution_count": 79,
   "id": "e790bd80",
   "metadata": {},
   "outputs": [
    {
     "data": {
      "text/plain": [
       "8.33751425313569"
      ]
     },
     "execution_count": 79,
     "metadata": {},
     "output_type": "execute_result"
    }
   ],
   "source": [
    "# sachin peers - matches per 100\n",
    "len(non_sachin_df)/sum(non_sachin_df[\"50's\"])"
   ]
  },
  {
   "cell_type": "code",
   "execution_count": 80,
   "id": "ee30bd3d",
   "metadata": {},
   "outputs": [
    {
     "data": {
      "text/plain": [
       "4.226415094339623"
      ]
     },
     "execution_count": 80,
     "metadata": {},
     "output_type": "execute_result"
    }
   ],
   "source": [
    "# kohli matches per 50\n",
    "len(virat_df1)/sum(virat_df1[\"50's\"])"
   ]
  },
  {
   "cell_type": "code",
   "execution_count": 81,
   "id": "389cb267",
   "metadata": {},
   "outputs": [
    {
     "data": {
      "text/plain": [
       "7.673469387755102"
      ]
     },
     "execution_count": 81,
     "metadata": {},
     "output_type": "execute_result"
    }
   ],
   "source": [
    "# kohli peers - matches per 50\n",
    "len(non_virat_df)/sum(non_virat_df[\"50's\"])"
   ]
  },
  {
   "cell_type": "code",
   "execution_count": 138,
   "id": "ee7ee751",
   "metadata": {},
   "outputs": [
    {
     "name": "stdout",
     "output_type": "stream",
     "text": [
      "Sachin matches per 50s are 0.57\n"
     ]
    }
   ],
   "source": [
    "# normalized sachin value\n",
    "sachin_mper_50 = len(sachin_df1)/sum(sachin_df1[\"50's\"])\n",
    "sachin_peers_mper_50 = len(non_sachin_df)/sum(non_sachin_df[\"50's\"])\n",
    "Sachin50 = round(sachin_mper_50/sachin_peers_mper_50,2)\n",
    "print('Sachin matches per 50s are',Sachin50)"
   ]
  },
  {
   "cell_type": "code",
   "execution_count": 139,
   "id": "8c0e272f",
   "metadata": {},
   "outputs": [
    {
     "name": "stdout",
     "output_type": "stream",
     "text": [
      "Virat matches per 50s are 0.55\n"
     ]
    }
   ],
   "source": [
    "# normalized virat value\n",
    "kohli_mper_50 = len(virat_df1)/sum(virat_df1[\"50's\"])\n",
    "kohli_peers_mper_50 = len(non_virat_df)/sum(non_virat_df[\"50's\"])\n",
    "Virat50 = round(kohli_mper_50/kohli_peers_mper_50,2)\n",
    "print('Virat matches per 50s are',Virat50)"
   ]
  },
  {
   "cell_type": "markdown",
   "id": "fc562022",
   "metadata": {},
   "source": [
    "### Team Contribution: Here we are already comparing with peers, hence no need of a normalization"
   ]
  },
  {
   "cell_type": "code",
   "execution_count": 143,
   "id": "1825caff",
   "metadata": {},
   "outputs": [
    {
     "name": "stdout",
     "output_type": "stream",
     "text": [
      "Percentage contribution of Sachin in Team Runs is  16.95 %\n"
     ]
    }
   ],
   "source": [
    "# % of team runs by sachin\n",
    "print('Percentage contribution of Sachin in Team Runs is ',SachinTeamContri,'%')"
   ]
  },
  {
   "cell_type": "code",
   "execution_count": 144,
   "id": "6fa22cae",
   "metadata": {},
   "outputs": [
    {
     "name": "stdout",
     "output_type": "stream",
     "text": [
      "Percentage contribution of Virat in Team Runs is  17.61 %\n"
     ]
    }
   ],
   "source": [
    "# % of team runs by kohli\n",
    "print('Percentage contribution of Virat in Team Runs is ',ViratTeamContri,'%')"
   ]
  },
  {
   "cell_type": "markdown",
   "id": "570fc321",
   "metadata": {},
   "source": [
    "## Final Conclusion"
   ]
  },
  {
   "cell_type": "markdown",
   "id": "7bebfab9",
   "metadata": {},
   "source": [
    "#### We will award 1 point to each player for winning in a particular parameter"
   ]
  },
  {
   "cell_type": "code",
   "execution_count": 153,
   "id": "4ed1e1cb",
   "metadata": {},
   "outputs": [
    {
     "name": "stdout",
     "output_type": "stream",
     "text": [
      "Virat has better Runs per inning ratio than Sachin\n",
      "Sachin has better SR ratio than Virat\n",
      "Sachin has better matches per 100 ratio than Virat\n",
      "Virat has better matches per 50 ratio than Sachin\n",
      "Virat has better Team Contribution ratio than Sachin\n"
     ]
    }
   ],
   "source": [
    "SachinPTS = 0\n",
    "ViratPTS = 0\n",
    "\n",
    "if SachinRPI>ViratRPI :\n",
    "    SachinPTS = SachinPTS+1\n",
    "    print('Sachin has better Runs per inning ratio than Virat')\n",
    "else :\n",
    "    ViratPTS = ViratPTS+1\n",
    "    print('Virat has better Runs per inning ratio than Sachin')\n",
    "#---------------------------------\n",
    "    \n",
    "if SachinSR>ViratSR :\n",
    "    SachinPTS = SachinPTS+1\n",
    "    print('Sachin has better SR ratio than Virat')\n",
    "else :\n",
    "    ViratPTS = ViratPTS+1\n",
    "    print('Virat has better SR ratio than Sachin')\n",
    "    \n",
    "#---------------------------------\n",
    "\n",
    "if Sachin100<Virat100 :\n",
    "    SachinPTS = SachinPTS+1\n",
    "    print('Sachin has better matches per 100 ratio than Virat')\n",
    "else :\n",
    "    ViratPTS = ViratPTS+1\n",
    "    print('Virat has better matches per 100 ratio than Sachin')\n",
    "    \n",
    "#---------------------------------\n",
    "\n",
    "if Sachin50<Virat50 :\n",
    "    SachinPTS = SachinPTS+1\n",
    "    print('Sachin has better matches per 50 ratio than Virat')\n",
    "else :\n",
    "    ViratPTS = ViratPTS+1\n",
    "    print('Virat has better matches per 50 ratio than Sachin')\n",
    "    \n",
    "#---------------------------------\n",
    "\n",
    "if SachinTeamContri>ViratTeamContri :\n",
    "    SachinPTS = SachinPTS+1\n",
    "    print('Sachin has better Team Contribution ratio than Virat')\n",
    "else :\n",
    "    ViratPTS = ViratPTS+1\n",
    "    print('Virat has better Team Contribution ratio than Sachin')\n",
    "    \n",
    "#---------------------------------"
   ]
  },
  {
   "cell_type": "markdown",
   "id": "374f1cd4",
   "metadata": {},
   "source": [
    "### Winner according to our analysis is : "
   ]
  },
  {
   "cell_type": "code",
   "execution_count": 172,
   "id": "49b086d1",
   "metadata": {},
   "outputs": [
    {
     "name": "stdout",
     "output_type": "stream",
     "text": [
      "Sachin won in  2  categories and Virat won in  3  categories\n",
      "---------------------------------\n",
      "\u001b[1m \u001b[91m \u001b[4mVirat is better than Sachin\n"
     ]
    }
   ],
   "source": [
    "print('Sachin won in ',SachinPTS,' categories and Virat won in ',ViratPTS,' categories')\n",
    "\n",
    "print('---------------------------------')\n",
    "\n",
    "if SachinPTS>ViratPTS :\n",
    "    print('\\033[1m \\033[91m \\033[4m'+'Sachin is better than Virat')\n",
    "else :\n",
    "    print('\\033[1m \\033[91m \\033[4m'+'Virat is better than Sachin')"
   ]
  }
 ],
 "metadata": {
  "kernelspec": {
   "display_name": "Python 3",
   "language": "python",
   "name": "python3"
  },
  "language_info": {
   "codemirror_mode": {
    "name": "ipython",
    "version": 3
   },
   "file_extension": ".py",
   "mimetype": "text/x-python",
   "name": "python",
   "nbconvert_exporter": "python",
   "pygments_lexer": "ipython3",
   "version": "3.8.8"
  }
 },
 "nbformat": 4,
 "nbformat_minor": 5
}
